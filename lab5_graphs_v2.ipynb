{
 "cells": [
  {
   "cell_type": "markdown",
   "metadata": {},
   "source": [
    "# Laboratorium 5 - rekomendacje grafowe\n",
    "\n",
    "## Przygotowanie\n",
    "\n",
    " * dataset i potrzebne biblioteki są dokładnie takie same jak na poprzednim laboratorium\n",
    " * pobierz i wypakuj dataset: https://files.grouplens.org/datasets/movielens/ml-latest-small.zip\n",
    "   * więcej możesz poczytać tutaj: https://grouplens.org/datasets/movielens/\n",
    " * [opcjonalnie] Utwórz wirtualne środowisko\n",
    " `python3 -m venv ./recsyslab5`\n",
    " * zainstaluj potrzebne biblioteki:\n",
    " `pip install numpy pandas sklearn gensim==3.8.3`"
   ]
  },
  {
   "cell_type": "markdown",
   "metadata": {},
   "source": [
    "## Część 1. - przygotowanie danych"
   ]
  },
  {
   "cell_type": "code",
   "execution_count": 1,
   "metadata": {},
   "outputs": [],
   "source": [
    "# importujemy wszystkie potrzebne pakiety\n",
    "\n",
    "import math\n",
    "import random\n",
    "import numpy as np\n",
    "import pandas\n",
    "\n",
    "from gensim.models import Word2Vec\n",
    "\n",
    "from sklearn.model_selection import train_test_split, KFold"
   ]
  },
  {
   "cell_type": "code",
   "execution_count": 2,
   "metadata": {},
   "outputs": [],
   "source": [
    "SCORE_THRESHOLD = 4.0 # recenzje z co najmniej taka ocena wezmiemy pod uwage\n",
    "VECTOR_SIZE = 20 # jak dlugie powinny byc wektory osadzen wierzcholkow\n",
    "NEIGHBOURS_WINDOW = 11 # tylu sasiadow wezmiemy pod uwage w algorytmie Word2Vec (symetrycznie i wliczajac biezacy element)\n",
    "PATH_LENGTH = 30 # dlugosc pojedynczej losowej sciezki\n",
    "PATHS_COUNT_PER_NODE = 5 # liczba losowych sciezek zaczynajacych sie w kazdym z wierzcholkow"
   ]
  },
  {
   "cell_type": "code",
   "execution_count": 3,
   "metadata": {},
   "outputs": [
    {
     "data": {
      "text/html": [
       "<div>\n",
       "<style scoped>\n",
       "    .dataframe tbody tr th:only-of-type {\n",
       "        vertical-align: middle;\n",
       "    }\n",
       "\n",
       "    .dataframe tbody tr th {\n",
       "        vertical-align: top;\n",
       "    }\n",
       "\n",
       "    .dataframe thead th {\n",
       "        text-align: right;\n",
       "    }\n",
       "</style>\n",
       "<table border=\"1\" class=\"dataframe\">\n",
       "  <thead>\n",
       "    <tr style=\"text-align: right;\">\n",
       "      <th></th>\n",
       "      <th>userId</th>\n",
       "      <th>movieId</th>\n",
       "      <th>rating</th>\n",
       "    </tr>\n",
       "  </thead>\n",
       "  <tbody>\n",
       "    <tr>\n",
       "      <th>0</th>\n",
       "      <td>u_1</td>\n",
       "      <td>m_1</td>\n",
       "      <td>4.0</td>\n",
       "    </tr>\n",
       "    <tr>\n",
       "      <th>1</th>\n",
       "      <td>u_1</td>\n",
       "      <td>m_3</td>\n",
       "      <td>4.0</td>\n",
       "    </tr>\n",
       "    <tr>\n",
       "      <th>2</th>\n",
       "      <td>u_1</td>\n",
       "      <td>m_6</td>\n",
       "      <td>4.0</td>\n",
       "    </tr>\n",
       "    <tr>\n",
       "      <th>3</th>\n",
       "      <td>u_1</td>\n",
       "      <td>m_47</td>\n",
       "      <td>5.0</td>\n",
       "    </tr>\n",
       "    <tr>\n",
       "      <th>4</th>\n",
       "      <td>u_1</td>\n",
       "      <td>m_50</td>\n",
       "      <td>5.0</td>\n",
       "    </tr>\n",
       "    <tr>\n",
       "      <th>...</th>\n",
       "      <td>...</td>\n",
       "      <td>...</td>\n",
       "      <td>...</td>\n",
       "    </tr>\n",
       "    <tr>\n",
       "      <th>100830</th>\n",
       "      <td>u_610</td>\n",
       "      <td>m_166528</td>\n",
       "      <td>4.0</td>\n",
       "    </tr>\n",
       "    <tr>\n",
       "      <th>100831</th>\n",
       "      <td>u_610</td>\n",
       "      <td>m_166534</td>\n",
       "      <td>4.0</td>\n",
       "    </tr>\n",
       "    <tr>\n",
       "      <th>100832</th>\n",
       "      <td>u_610</td>\n",
       "      <td>m_168248</td>\n",
       "      <td>5.0</td>\n",
       "    </tr>\n",
       "    <tr>\n",
       "      <th>100833</th>\n",
       "      <td>u_610</td>\n",
       "      <td>m_168250</td>\n",
       "      <td>5.0</td>\n",
       "    </tr>\n",
       "    <tr>\n",
       "      <th>100834</th>\n",
       "      <td>u_610</td>\n",
       "      <td>m_168252</td>\n",
       "      <td>5.0</td>\n",
       "    </tr>\n",
       "  </tbody>\n",
       "</table>\n",
       "<p>48580 rows × 3 columns</p>\n",
       "</div>"
      ],
      "text/plain": [
       "       userId   movieId  rating\n",
       "0         u_1       m_1     4.0\n",
       "1         u_1       m_3     4.0\n",
       "2         u_1       m_6     4.0\n",
       "3         u_1      m_47     5.0\n",
       "4         u_1      m_50     5.0\n",
       "...       ...       ...     ...\n",
       "100830  u_610  m_166528     4.0\n",
       "100831  u_610  m_166534     4.0\n",
       "100832  u_610  m_168248     5.0\n",
       "100833  u_610  m_168250     5.0\n",
       "100834  u_610  m_168252     5.0\n",
       "\n",
       "[48580 rows x 3 columns]"
      ]
     },
     "execution_count": 3,
     "metadata": {},
     "output_type": "execute_result"
    }
   ],
   "source": [
    "# wczytujemy oceny uytkownikow\n",
    "\n",
    "ratings = pandas.read_csv('ml-latest-small/ratings.csv').drop(columns=['timestamp'])\n",
    "ratings = ratings.where(ratings['rating'] >= SCORE_THRESHOLD).dropna()\n",
    "# rozszerzamy ID tak, by sie nie powtarzaly\n",
    "ratings['userId'] = ratings['userId'].apply(lambda x: 'u_' + str(int(x)))\n",
    "ratings['movieId'] = ratings['movieId'].apply(lambda x: 'm_' + str(int(x)))\n",
    "ratings"
   ]
  },
  {
   "cell_type": "code",
   "execution_count": 4,
   "metadata": {},
   "outputs": [
    {
     "data": {
      "text/html": [
       "<div>\n",
       "<style scoped>\n",
       "    .dataframe tbody tr th:only-of-type {\n",
       "        vertical-align: middle;\n",
       "    }\n",
       "\n",
       "    .dataframe tbody tr th {\n",
       "        vertical-align: top;\n",
       "    }\n",
       "\n",
       "    .dataframe thead th {\n",
       "        text-align: right;\n",
       "    }\n",
       "</style>\n",
       "<table border=\"1\" class=\"dataframe\">\n",
       "  <thead>\n",
       "    <tr style=\"text-align: right;\">\n",
       "      <th></th>\n",
       "      <th>movieId</th>\n",
       "      <th>genre</th>\n",
       "    </tr>\n",
       "  </thead>\n",
       "  <tbody>\n",
       "    <tr>\n",
       "      <th>0</th>\n",
       "      <td>m_1</td>\n",
       "      <td>g_adventure</td>\n",
       "    </tr>\n",
       "    <tr>\n",
       "      <th>0</th>\n",
       "      <td>m_1</td>\n",
       "      <td>g_animation</td>\n",
       "    </tr>\n",
       "    <tr>\n",
       "      <th>0</th>\n",
       "      <td>m_1</td>\n",
       "      <td>g_children</td>\n",
       "    </tr>\n",
       "    <tr>\n",
       "      <th>0</th>\n",
       "      <td>m_1</td>\n",
       "      <td>g_comedy</td>\n",
       "    </tr>\n",
       "    <tr>\n",
       "      <th>0</th>\n",
       "      <td>m_1</td>\n",
       "      <td>g_fantasy</td>\n",
       "    </tr>\n",
       "    <tr>\n",
       "      <th>...</th>\n",
       "      <td>...</td>\n",
       "      <td>...</td>\n",
       "    </tr>\n",
       "    <tr>\n",
       "      <th>9738</th>\n",
       "      <td>m_193583</td>\n",
       "      <td>g_fantasy</td>\n",
       "    </tr>\n",
       "    <tr>\n",
       "      <th>9739</th>\n",
       "      <td>m_193585</td>\n",
       "      <td>g_drama</td>\n",
       "    </tr>\n",
       "    <tr>\n",
       "      <th>9740</th>\n",
       "      <td>m_193587</td>\n",
       "      <td>g_action</td>\n",
       "    </tr>\n",
       "    <tr>\n",
       "      <th>9740</th>\n",
       "      <td>m_193587</td>\n",
       "      <td>g_animation</td>\n",
       "    </tr>\n",
       "    <tr>\n",
       "      <th>9741</th>\n",
       "      <td>m_193609</td>\n",
       "      <td>g_comedy</td>\n",
       "    </tr>\n",
       "  </tbody>\n",
       "</table>\n",
       "<p>22084 rows × 2 columns</p>\n",
       "</div>"
      ],
      "text/plain": [
       "       movieId        genre\n",
       "0          m_1  g_adventure\n",
       "0          m_1  g_animation\n",
       "0          m_1   g_children\n",
       "0          m_1     g_comedy\n",
       "0          m_1    g_fantasy\n",
       "...        ...          ...\n",
       "9738  m_193583    g_fantasy\n",
       "9739  m_193585      g_drama\n",
       "9740  m_193587     g_action\n",
       "9740  m_193587  g_animation\n",
       "9741  m_193609     g_comedy\n",
       "\n",
       "[22084 rows x 2 columns]"
      ]
     },
     "execution_count": 4,
     "metadata": {},
     "output_type": "execute_result"
    }
   ],
   "source": [
    "# wczytujemy gatunki filmow\n",
    "\n",
    "movies = pandas.read_csv('ml-latest-small/movies.csv').drop(columns=['title'])\n",
    "movies['movieId'] = movies['movieId'].apply(lambda x: 'm_' + str(int(x)))\n",
    "movies['genres'] = movies['genres'].apply(lambda x: x.split('|'))\n",
    "movies_to_genres = movies.explode('genres')\n",
    "movies_to_genres['genres'] = movies_to_genres['genres'].apply(lambda x: 'g_' + x.lower())\n",
    "movies_to_genres = movies_to_genres.rename(columns = {'genres': 'genre'})\n",
    "movies_to_genres"
   ]
  },
  {
   "cell_type": "code",
   "execution_count": 5,
   "metadata": {},
   "outputs": [],
   "source": [
    "users = ratings['userId'].unique()\n",
    "movies = ratings['movieId'].unique()\n",
    "genres = movies_to_genres['genre'].unique()"
   ]
  },
  {
   "cell_type": "markdown",
   "metadata": {},
   "source": [
    "## Część 2. - spacer po grafie"
   ]
  },
  {
   "cell_type": "code",
   "execution_count": 7,
   "metadata": {},
   "outputs": [
    {
     "name": "stdout",
     "output_type": "stream",
     "text": [
      "Done1634 |■■■■■■■■■■■■■■■■■■■■■■■■■■■■■■■■■■■■■■■■■■■■■■■■■■■■■■■■■■■■■■■■■■■■■■■■■■■■■■■■■■■■■■■■■■■■■■■■■■■-| 99.98%                         \r"
     ]
    }
   ],
   "source": [
    "# generujemy losowe sciezki w grafie\n",
    "#   krawedzie reprezentowane sa w dwoch macierzach - ratings i movies\n",
    "#   w wersji podstawowej wszystkie krawedzie traktujemy jako niewazone i nieskierowane\n",
    "#   mozliwe ulepszenia:\n",
    "#    - rozwazenie krawedzi skierowanych\n",
    "#    - uwzglednienie wag krawedzi (ocen uzytkownikow)\n",
    "#    - jakas forma normalizacji - obnizenia wag wierzcholkow o wysokich stopniach\n",
    "#    - Node2Vec - parametry P i Q\n",
    "# wynikiem powinna byc lista list - kazda z tych list zawiera kolejne ID wierzcholkow na sciezce\n",
    "\n",
    "def generate_walks(ratings, movies_to_genres, paths_per_node, path_length):\n",
    "    paths = []\n",
    "    movies_no = len(movies)\n",
    "    for idx, movie in enumerate(movies):\n",
    "        percent = idx/movies_no\n",
    "        bar = '{progress:-<100}'.format(progress='■'*math.floor(percent*100))\n",
    "        print(f'\\r{movie} |{bar}| {\"\\r\", (percent*100):.2f}%', end = \"\")\n",
    "        \n",
    "        for i in range(paths_per_node):\n",
    "            nodes = []\n",
    "            # wybieramy losowo pierwszy wierzchołek spośród wszystkich klas\n",
    "            nodes.append(movie)\n",
    "            for j in range(path_length-1):\n",
    "                last_node = nodes[-1]\n",
    "                # na podstawie ostatniego nodea wybieramy krawędź\n",
    "                if last_node[0] == 'u':\n",
    "                    new_node = ratings.loc[ratings['userId'] == last_node].sample()['movieId']\n",
    "                elif last_node[0] == 'm':\n",
    "                    # movie ma krawędzie z gatunkami i userami, losujemy dla której klasy wybrać krawędź\n",
    "                    # film może nie być oceniony, więc w tym przypadku bierzemy gatunek\n",
    "                    new_node = ratings.loc[ratings['movieId'] == last_node]\n",
    "                    if random.random() < 0.5 and new_node.size > 0:\n",
    "                        new_node = new_node.sample()['userId']\n",
    "                    else:\n",
    "                        new_node = movies_to_genres.loc[movies_to_genres['movieId'] == last_node].sample()['genre']\n",
    "                elif last_node[0] == 'g':\n",
    "                    new_node = movies_to_genres.loc[movies_to_genres['genre'] == last_node].sample()['movieId']\n",
    "                    \n",
    "                nodes.append(new_node.iloc[0])\n",
    "        \n",
    "            paths.append(nodes)\n",
    "            \n",
    "    print('Done', end = \"\\r\")\n",
    "    \n",
    "    return paths\n",
    "    \n",
    "walks = generate_walks(ratings, movies_to_genres, PATHS_COUNT_PER_NODE, PATH_LENGTH)"
   ]
  },
  {
   "cell_type": "markdown",
   "metadata": {},
   "source": [
    "## Część 3. - obliczenie osadzeń"
   ]
  },
  {
   "cell_type": "code",
   "execution_count": 8,
   "metadata": {},
   "outputs": [],
   "source": [
    "# trenujemy model\n",
    "#   zauwaz, ze wszystkie trzy rodzaje wierzcholkow beda reprezentowane tak samo, w tej samej przestrzeni\n",
    "\n",
    "model = Word2Vec(sentences=walks, vector_size=VECTOR_SIZE, window=NEIGHBOURS_WINDOW, min_count=1, workers=4)\n",
    "embeddings = model.wv\n",
    "[u_1, m_1, g_1, m_71231, u_27]\n",
    "[10, 0.1234, 42.322]"
   ]
  },
  {
   "cell_type": "markdown",
   "metadata": {},
   "source": [
    "## Część 4. - rekomendacje i zastosowania"
   ]
  },
  {
   "cell_type": "code",
   "execution_count": 9,
   "metadata": {},
   "outputs": [],
   "source": [
    "PULP_FICTION = 'm_296'\n",
    "TOY_STORY = 'm_1'\n",
    "PLANET_OF_THE_APES = 'm_2529'"
   ]
  },
  {
   "cell_type": "code",
   "execution_count": 10,
   "metadata": {},
   "outputs": [
    {
     "name": "stdout",
     "output_type": "stream",
     "text": [
      "['m_8372', 'm_4697', 'm_136341', 'm_40339', 'm_104875']\n",
      "['m_130482', 'm_80862', 'm_61257', 'm_4957', 'm_148982']\n",
      "['m_1703', 'm_105746', 'm_184257', 'm_131724', 'm_131013']\n"
     ]
    }
   ],
   "source": [
    "# wyszukajmy K najpodobniejszych filmów do danego\n",
    "# porownaj wyniki dla odleglosci euklidesowej i cosinuswej, np. na trzech powyzszych filmach\n",
    "\n",
    "def euclidian_distance(i, j):\n",
    "    distance = np.subtract(i, j)\n",
    "    distance = np.square(distance)\n",
    "    distance = np.sum(distance)\n",
    "    distance = math.sqrt(distance)\n",
    "    \n",
    "    return distance\n",
    "\n",
    "def cosine_distance(i, j):\n",
    "    dot_prod = np.multiply(i, j)\n",
    "    dot_prod = np.sum(dot_prod)\n",
    "    \n",
    "    magn_i = np.square(i)\n",
    "    magn_i = np.sum(magn_i)\n",
    "    magn_i = math.sqrt(magn_i)\n",
    "    \n",
    "    magn_j = np.square(j)\n",
    "    magn_j = np.sum(magn_j)\n",
    "    magn_j = math.sqrt(magn_j)\n",
    "    \n",
    "    return dot_prod/(magn_i*magn_j)\n",
    "    \n",
    "\n",
    "def k_most_similar_movies(movie_id, K, embeddings, distance_fun):\n",
    "    # ...\n",
    "    # sortujemy movies(z wykluczeniem movie_id) po odległości embeddingów\n",
    "    k_most_similar = [movie for movie in movies if movie != movie_id]\n",
    "    k_most_similar.sort(key=(lambda x: distance_fun(embeddings[movie_id], embeddings[x])))\n",
    "    return k_most_similar[:K]\n",
    "\n",
    "print(k_most_similar_movies(PULP_FICTION, 5, embeddings, cosine_distance))\n",
    "print(k_most_similar_movies(TOY_STORY, 5, embeddings, cosine_distance))\n",
    "print(k_most_similar_movies(PLANET_OF_THE_APES, 5, embeddings, cosine_distance))"
   ]
  },
  {
   "cell_type": "code",
   "execution_count": 11,
   "metadata": {},
   "outputs": [
    {
     "data": {
      "text/plain": [
       "['m_8577', 'm_61257', 'm_104272', 'm_80862', 'm_6869']"
      ]
     },
     "execution_count": 11,
     "metadata": {},
     "output_type": "execute_result"
    }
   ],
   "source": [
    "# wyszukajmy k filmow najblizszych uzytkownikowi\n",
    "# wykorzystaj funkcje z poprzedniej komorki\n",
    "\n",
    "def k_best_movies_for_user(user_id, K, embeddings, distance_fun):\n",
    "    return k_most_similar_movies(user_id, K, embeddings, distance_fun)\n",
    "\n",
    "k_best_movies_for_user('u_1', 5, embeddings, cosine_distance)"
   ]
  },
  {
   "cell_type": "code",
   "execution_count": 12,
   "metadata": {},
   "outputs": [
    {
     "data": {
      "text/plain": [
       "['m_349', 'm_367', 'm_212', 'm_22', 'm_168']"
      ]
     },
     "execution_count": 12,
     "metadata": {},
     "output_type": "execute_result"
    }
   ],
   "source": [
    "# sprobujmy czegos bardziej skomplikowanego\n",
    "#   znajdz ulubiony gatunek filmowy uzytkownika\n",
    "#   a nastepnie zaproponuj K filmow z tego gatunku - ale nie tych najblizszych uzytkownikowi\n",
    "#   (zaproponuj, w jaki sposob dobrac filmy interesujace, ale nie z najblizszego otoczenia)\n",
    "\n",
    "def k_from_favourite_genre(user_id, K, embeddings, distance_fun):\n",
    "    # ...\n",
    "    k_most_similar = [genre for genre in genres]\n",
    "    k_most_similar.sort(key=(lambda x: distance_fun(embeddings[user_id], embeddings[x])))\n",
    "    favourite_genre = k_most_similar[0]\n",
    "    \n",
    "    return k_most_similar_movies(favourite_genre, K, embeddings, distance_fun)\n",
    "\n",
    "k_from_favourite_genre('u_1', 5, embeddings, cosine_distance)"
   ]
  },
  {
   "cell_type": "code",
   "execution_count": 13,
   "metadata": {},
   "outputs": [],
   "source": [
    "# Na koniec najbardziej skomplikowany algorytm - odpowiednik \"Radia utworu\" w Spotify.\n",
    "#   Zaczynamy od jednego filmu, a nastepnie wyznaczamy kolejne, wedrujac po przestrzeni, w ktorej wszystkie elementy sa osadzone.\n",
    "#   Zaproponuj, jak zdefiniowac podzbior filmow, z ktorych bedziemy wybierac (np. filmy odlegle o min. a i max. b od danego)\n",
    "#   oraz jak generowac kolejny skok (tak, zeby seria rekomendacji nie byla zbyt monotonna, ale rownoczesnie zgodna z gustem uzytkownika)\n",
    "\n",
    "def radio_distance(u, m1, m2, min_dist, max_dist, movie_bias = 0.7, distance_fun=cosine_distance):\n",
    "    distance = movie_bias*distance_fun(m1, m2)+(1-movie_bias)*distance_fun(m2, u)\n",
    "    \n",
    "    if distance<min_dist or distance>max_dist:\n",
    "        distance = math.inf\n",
    "        \n",
    "    return distance\n",
    "\n",
    "\n",
    "def get_playlist(start_movie_id, user_id, K, embeddings):\n",
    "    # ...\n",
    "    playlist = k_most_similar_movies(start_movie_id, K, embeddings, lambda i, j: radio_distance(user_id, i, j, 0.1, 100))    \n",
    "      \n",
    "    \n",
    "    return playlist"
   ]
  },
  {
   "cell_type": "code",
   "execution_count": 14,
   "metadata": {},
   "outputs": [
    {
     "ename": "UFuncTypeError",
     "evalue": "ufunc 'multiply' did not contain a loop with signature matching types (dtype('float32'), dtype('<U3')) -> None",
     "output_type": "error",
     "traceback": [
      "\u001b[1;31m---------------------------------------------------------------------------\u001b[0m",
      "\u001b[1;31mUFuncTypeError\u001b[0m                            Traceback (most recent call last)",
      "\u001b[1;32m~\\AppData\\Local\\Temp/ipykernel_19676/3874507171.py\u001b[0m in \u001b[0;36m<module>\u001b[1;34m\u001b[0m\n\u001b[1;32m----> 1\u001b[1;33m \u001b[0mget_playlist\u001b[0m\u001b[1;33m(\u001b[0m\u001b[1;34m'm_1'\u001b[0m\u001b[1;33m,\u001b[0m \u001b[1;34m'u_1'\u001b[0m\u001b[1;33m,\u001b[0m \u001b[1;36m10\u001b[0m\u001b[1;33m,\u001b[0m \u001b[0membeddings\u001b[0m\u001b[1;33m)\u001b[0m\u001b[1;33m\u001b[0m\u001b[1;33m\u001b[0m\u001b[0m\n\u001b[0m",
      "\u001b[1;32m~\\AppData\\Local\\Temp/ipykernel_19676/866655044.py\u001b[0m in \u001b[0;36mget_playlist\u001b[1;34m(start_movie_id, user_id, K, embeddings)\u001b[0m\n\u001b[0;32m     15\u001b[0m \u001b[1;32mdef\u001b[0m \u001b[0mget_playlist\u001b[0m\u001b[1;33m(\u001b[0m\u001b[0mstart_movie_id\u001b[0m\u001b[1;33m,\u001b[0m \u001b[0muser_id\u001b[0m\u001b[1;33m,\u001b[0m \u001b[0mK\u001b[0m\u001b[1;33m,\u001b[0m \u001b[0membeddings\u001b[0m\u001b[1;33m)\u001b[0m\u001b[1;33m:\u001b[0m\u001b[1;33m\u001b[0m\u001b[1;33m\u001b[0m\u001b[0m\n\u001b[0;32m     16\u001b[0m     \u001b[1;31m# ...\u001b[0m\u001b[1;33m\u001b[0m\u001b[1;33m\u001b[0m\u001b[1;33m\u001b[0m\u001b[0m\n\u001b[1;32m---> 17\u001b[1;33m     \u001b[0mplaylist\u001b[0m \u001b[1;33m=\u001b[0m \u001b[0mk_most_similar_movies\u001b[0m\u001b[1;33m(\u001b[0m\u001b[0mstart_movie_id\u001b[0m\u001b[1;33m,\u001b[0m \u001b[0mK\u001b[0m\u001b[1;33m,\u001b[0m \u001b[0membeddings\u001b[0m\u001b[1;33m,\u001b[0m \u001b[1;32mlambda\u001b[0m \u001b[0mi\u001b[0m\u001b[1;33m,\u001b[0m \u001b[0mj\u001b[0m\u001b[1;33m:\u001b[0m \u001b[0mradio_distance\u001b[0m\u001b[1;33m(\u001b[0m\u001b[0muser_id\u001b[0m\u001b[1;33m,\u001b[0m \u001b[0mi\u001b[0m\u001b[1;33m,\u001b[0m \u001b[0mj\u001b[0m\u001b[1;33m,\u001b[0m \u001b[1;36m0.1\u001b[0m\u001b[1;33m,\u001b[0m \u001b[1;36m100\u001b[0m\u001b[1;33m)\u001b[0m\u001b[1;33m)\u001b[0m\u001b[1;33m\u001b[0m\u001b[1;33m\u001b[0m\u001b[0m\n\u001b[0m\u001b[0;32m     18\u001b[0m \u001b[1;33m\u001b[0m\u001b[0m\n\u001b[0;32m     19\u001b[0m \u001b[1;33m\u001b[0m\u001b[0m\n",
      "\u001b[1;32m~\\AppData\\Local\\Temp/ipykernel_19676/102911964.py\u001b[0m in \u001b[0;36mk_most_similar_movies\u001b[1;34m(movie_id, K, embeddings, distance_fun)\u001b[0m\n\u001b[0;32m     29\u001b[0m     \u001b[1;31m# sortujemy movies(z wykluczeniem movie_id) po odległości embeddingów\u001b[0m\u001b[1;33m\u001b[0m\u001b[1;33m\u001b[0m\u001b[1;33m\u001b[0m\u001b[0m\n\u001b[0;32m     30\u001b[0m     \u001b[0mk_most_similar\u001b[0m \u001b[1;33m=\u001b[0m \u001b[1;33m[\u001b[0m\u001b[0mmovie\u001b[0m \u001b[1;32mfor\u001b[0m \u001b[0mmovie\u001b[0m \u001b[1;32min\u001b[0m \u001b[0mmovies\u001b[0m \u001b[1;32mif\u001b[0m \u001b[0mmovie\u001b[0m \u001b[1;33m!=\u001b[0m \u001b[0mmovie_id\u001b[0m\u001b[1;33m]\u001b[0m\u001b[1;33m\u001b[0m\u001b[1;33m\u001b[0m\u001b[0m\n\u001b[1;32m---> 31\u001b[1;33m     \u001b[0mk_most_similar\u001b[0m\u001b[1;33m.\u001b[0m\u001b[0msort\u001b[0m\u001b[1;33m(\u001b[0m\u001b[0mkey\u001b[0m\u001b[1;33m=\u001b[0m\u001b[1;33m(\u001b[0m\u001b[1;32mlambda\u001b[0m \u001b[0mx\u001b[0m\u001b[1;33m:\u001b[0m \u001b[0mdistance_fun\u001b[0m\u001b[1;33m(\u001b[0m\u001b[0membeddings\u001b[0m\u001b[1;33m[\u001b[0m\u001b[0mmovie_id\u001b[0m\u001b[1;33m]\u001b[0m\u001b[1;33m,\u001b[0m \u001b[0membeddings\u001b[0m\u001b[1;33m[\u001b[0m\u001b[0mx\u001b[0m\u001b[1;33m]\u001b[0m\u001b[1;33m)\u001b[0m\u001b[1;33m)\u001b[0m\u001b[1;33m)\u001b[0m\u001b[1;33m\u001b[0m\u001b[1;33m\u001b[0m\u001b[0m\n\u001b[0m\u001b[0;32m     32\u001b[0m     \u001b[1;32mreturn\u001b[0m \u001b[0mk_most_similar\u001b[0m\u001b[1;33m[\u001b[0m\u001b[1;33m:\u001b[0m\u001b[0mK\u001b[0m\u001b[1;33m]\u001b[0m\u001b[1;33m\u001b[0m\u001b[1;33m\u001b[0m\u001b[0m\n\u001b[0;32m     33\u001b[0m \u001b[1;33m\u001b[0m\u001b[0m\n",
      "\u001b[1;32m~\\AppData\\Local\\Temp/ipykernel_19676/102911964.py\u001b[0m in \u001b[0;36m<lambda>\u001b[1;34m(x)\u001b[0m\n\u001b[0;32m     29\u001b[0m     \u001b[1;31m# sortujemy movies(z wykluczeniem movie_id) po odległości embeddingów\u001b[0m\u001b[1;33m\u001b[0m\u001b[1;33m\u001b[0m\u001b[1;33m\u001b[0m\u001b[0m\n\u001b[0;32m     30\u001b[0m     \u001b[0mk_most_similar\u001b[0m \u001b[1;33m=\u001b[0m \u001b[1;33m[\u001b[0m\u001b[0mmovie\u001b[0m \u001b[1;32mfor\u001b[0m \u001b[0mmovie\u001b[0m \u001b[1;32min\u001b[0m \u001b[0mmovies\u001b[0m \u001b[1;32mif\u001b[0m \u001b[0mmovie\u001b[0m \u001b[1;33m!=\u001b[0m \u001b[0mmovie_id\u001b[0m\u001b[1;33m]\u001b[0m\u001b[1;33m\u001b[0m\u001b[1;33m\u001b[0m\u001b[0m\n\u001b[1;32m---> 31\u001b[1;33m     \u001b[0mk_most_similar\u001b[0m\u001b[1;33m.\u001b[0m\u001b[0msort\u001b[0m\u001b[1;33m(\u001b[0m\u001b[0mkey\u001b[0m\u001b[1;33m=\u001b[0m\u001b[1;33m(\u001b[0m\u001b[1;32mlambda\u001b[0m \u001b[0mx\u001b[0m\u001b[1;33m:\u001b[0m \u001b[0mdistance_fun\u001b[0m\u001b[1;33m(\u001b[0m\u001b[0membeddings\u001b[0m\u001b[1;33m[\u001b[0m\u001b[0mmovie_id\u001b[0m\u001b[1;33m]\u001b[0m\u001b[1;33m,\u001b[0m \u001b[0membeddings\u001b[0m\u001b[1;33m[\u001b[0m\u001b[0mx\u001b[0m\u001b[1;33m]\u001b[0m\u001b[1;33m)\u001b[0m\u001b[1;33m)\u001b[0m\u001b[1;33m)\u001b[0m\u001b[1;33m\u001b[0m\u001b[1;33m\u001b[0m\u001b[0m\n\u001b[0m\u001b[0;32m     32\u001b[0m     \u001b[1;32mreturn\u001b[0m \u001b[0mk_most_similar\u001b[0m\u001b[1;33m[\u001b[0m\u001b[1;33m:\u001b[0m\u001b[0mK\u001b[0m\u001b[1;33m]\u001b[0m\u001b[1;33m\u001b[0m\u001b[1;33m\u001b[0m\u001b[0m\n\u001b[0;32m     33\u001b[0m \u001b[1;33m\u001b[0m\u001b[0m\n",
      "\u001b[1;32m~\\AppData\\Local\\Temp/ipykernel_19676/866655044.py\u001b[0m in \u001b[0;36m<lambda>\u001b[1;34m(i, j)\u001b[0m\n\u001b[0;32m     15\u001b[0m \u001b[1;32mdef\u001b[0m \u001b[0mget_playlist\u001b[0m\u001b[1;33m(\u001b[0m\u001b[0mstart_movie_id\u001b[0m\u001b[1;33m,\u001b[0m \u001b[0muser_id\u001b[0m\u001b[1;33m,\u001b[0m \u001b[0mK\u001b[0m\u001b[1;33m,\u001b[0m \u001b[0membeddings\u001b[0m\u001b[1;33m)\u001b[0m\u001b[1;33m:\u001b[0m\u001b[1;33m\u001b[0m\u001b[1;33m\u001b[0m\u001b[0m\n\u001b[0;32m     16\u001b[0m     \u001b[1;31m# ...\u001b[0m\u001b[1;33m\u001b[0m\u001b[1;33m\u001b[0m\u001b[1;33m\u001b[0m\u001b[0m\n\u001b[1;32m---> 17\u001b[1;33m     \u001b[0mplaylist\u001b[0m \u001b[1;33m=\u001b[0m \u001b[0mk_most_similar_movies\u001b[0m\u001b[1;33m(\u001b[0m\u001b[0mstart_movie_id\u001b[0m\u001b[1;33m,\u001b[0m \u001b[0mK\u001b[0m\u001b[1;33m,\u001b[0m \u001b[0membeddings\u001b[0m\u001b[1;33m,\u001b[0m \u001b[1;32mlambda\u001b[0m \u001b[0mi\u001b[0m\u001b[1;33m,\u001b[0m \u001b[0mj\u001b[0m\u001b[1;33m:\u001b[0m \u001b[0mradio_distance\u001b[0m\u001b[1;33m(\u001b[0m\u001b[0muser_id\u001b[0m\u001b[1;33m,\u001b[0m \u001b[0mi\u001b[0m\u001b[1;33m,\u001b[0m \u001b[0mj\u001b[0m\u001b[1;33m,\u001b[0m \u001b[1;36m0.1\u001b[0m\u001b[1;33m,\u001b[0m \u001b[1;36m100\u001b[0m\u001b[1;33m)\u001b[0m\u001b[1;33m)\u001b[0m\u001b[1;33m\u001b[0m\u001b[1;33m\u001b[0m\u001b[0m\n\u001b[0m\u001b[0;32m     18\u001b[0m \u001b[1;33m\u001b[0m\u001b[0m\n\u001b[0;32m     19\u001b[0m \u001b[1;33m\u001b[0m\u001b[0m\n",
      "\u001b[1;32m~\\AppData\\Local\\Temp/ipykernel_19676/866655044.py\u001b[0m in \u001b[0;36mradio_distance\u001b[1;34m(u, m1, m2, min_dist, max_dist, movie_bias, distance_fun)\u001b[0m\n\u001b[0;32m      5\u001b[0m \u001b[1;33m\u001b[0m\u001b[0m\n\u001b[0;32m      6\u001b[0m \u001b[1;32mdef\u001b[0m \u001b[0mradio_distance\u001b[0m\u001b[1;33m(\u001b[0m\u001b[0mu\u001b[0m\u001b[1;33m,\u001b[0m \u001b[0mm1\u001b[0m\u001b[1;33m,\u001b[0m \u001b[0mm2\u001b[0m\u001b[1;33m,\u001b[0m \u001b[0mmin_dist\u001b[0m\u001b[1;33m,\u001b[0m \u001b[0mmax_dist\u001b[0m\u001b[1;33m,\u001b[0m \u001b[0mmovie_bias\u001b[0m \u001b[1;33m=\u001b[0m \u001b[1;36m0.7\u001b[0m\u001b[1;33m,\u001b[0m \u001b[0mdistance_fun\u001b[0m\u001b[1;33m=\u001b[0m\u001b[0mcosine_distance\u001b[0m\u001b[1;33m)\u001b[0m\u001b[1;33m:\u001b[0m\u001b[1;33m\u001b[0m\u001b[1;33m\u001b[0m\u001b[0m\n\u001b[1;32m----> 7\u001b[1;33m     \u001b[0mdistance\u001b[0m \u001b[1;33m=\u001b[0m \u001b[0mmovie_bias\u001b[0m\u001b[1;33m*\u001b[0m\u001b[0mdistance_fun\u001b[0m\u001b[1;33m(\u001b[0m\u001b[0mm1\u001b[0m\u001b[1;33m,\u001b[0m \u001b[0mm2\u001b[0m\u001b[1;33m)\u001b[0m\u001b[1;33m+\u001b[0m\u001b[1;33m(\u001b[0m\u001b[1;36m1\u001b[0m\u001b[1;33m-\u001b[0m\u001b[0mmovie_bias\u001b[0m\u001b[1;33m)\u001b[0m\u001b[1;33m*\u001b[0m\u001b[0mdistance_fun\u001b[0m\u001b[1;33m(\u001b[0m\u001b[0mm2\u001b[0m\u001b[1;33m,\u001b[0m \u001b[0mu\u001b[0m\u001b[1;33m)\u001b[0m\u001b[1;33m\u001b[0m\u001b[1;33m\u001b[0m\u001b[0m\n\u001b[0m\u001b[0;32m      8\u001b[0m \u001b[1;33m\u001b[0m\u001b[0m\n\u001b[0;32m      9\u001b[0m     \u001b[1;32mif\u001b[0m \u001b[0mdistance\u001b[0m\u001b[1;33m<\u001b[0m\u001b[0mmin_dist\u001b[0m \u001b[1;32mor\u001b[0m \u001b[0mdistance\u001b[0m\u001b[1;33m>\u001b[0m\u001b[0mmax_dist\u001b[0m\u001b[1;33m:\u001b[0m\u001b[1;33m\u001b[0m\u001b[1;33m\u001b[0m\u001b[0m\n",
      "\u001b[1;32m~\\AppData\\Local\\Temp/ipykernel_19676/102911964.py\u001b[0m in \u001b[0;36mcosine_distance\u001b[1;34m(i, j)\u001b[0m\n\u001b[0;32m     11\u001b[0m \u001b[1;33m\u001b[0m\u001b[0m\n\u001b[0;32m     12\u001b[0m \u001b[1;32mdef\u001b[0m \u001b[0mcosine_distance\u001b[0m\u001b[1;33m(\u001b[0m\u001b[0mi\u001b[0m\u001b[1;33m,\u001b[0m \u001b[0mj\u001b[0m\u001b[1;33m)\u001b[0m\u001b[1;33m:\u001b[0m\u001b[1;33m\u001b[0m\u001b[1;33m\u001b[0m\u001b[0m\n\u001b[1;32m---> 13\u001b[1;33m     \u001b[0mdot_prod\u001b[0m \u001b[1;33m=\u001b[0m \u001b[0mnp\u001b[0m\u001b[1;33m.\u001b[0m\u001b[0mmultiply\u001b[0m\u001b[1;33m(\u001b[0m\u001b[0mi\u001b[0m\u001b[1;33m,\u001b[0m \u001b[0mj\u001b[0m\u001b[1;33m)\u001b[0m\u001b[1;33m\u001b[0m\u001b[1;33m\u001b[0m\u001b[0m\n\u001b[0m\u001b[0;32m     14\u001b[0m     \u001b[0mdot_prod\u001b[0m \u001b[1;33m=\u001b[0m \u001b[0mnp\u001b[0m\u001b[1;33m.\u001b[0m\u001b[0msum\u001b[0m\u001b[1;33m(\u001b[0m\u001b[0mdot_prod\u001b[0m\u001b[1;33m)\u001b[0m\u001b[1;33m\u001b[0m\u001b[1;33m\u001b[0m\u001b[0m\n\u001b[0;32m     15\u001b[0m \u001b[1;33m\u001b[0m\u001b[0m\n",
      "\u001b[1;31mUFuncTypeError\u001b[0m: ufunc 'multiply' did not contain a loop with signature matching types (dtype('float32'), dtype('<U3')) -> None"
     ]
    }
   ],
   "source": [
    "get_playlist('m_1', 'u_1', 10, embeddings)"
   ]
  },
  {
   "cell_type": "code",
   "execution_count": null,
   "metadata": {},
   "outputs": [],
   "source": []
  }
 ],
 "metadata": {
  "kernelspec": {
   "display_name": "Python 3 (ipykernel)",
   "language": "python",
   "name": "python3"
  },
  "language_info": {
   "codemirror_mode": {
    "name": "ipython",
    "version": 3
   },
   "file_extension": ".py",
   "mimetype": "text/x-python",
   "name": "python",
   "nbconvert_exporter": "python",
   "pygments_lexer": "ipython3",
   "version": "3.9.6"
  }
 },
 "nbformat": 4,
 "nbformat_minor": 4
}
