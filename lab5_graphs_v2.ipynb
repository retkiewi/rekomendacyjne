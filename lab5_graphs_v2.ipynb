{
 "cells": [
  {
   "cell_type": "markdown",
   "metadata": {},
   "source": [
    "# Laboratorium 5 - rekomendacje grafowe\n",
    "\n",
    "## Przygotowanie\n",
    "\n",
    " * dataset i potrzebne biblioteki są dokładnie takie same jak na poprzednim laboratorium\n",
    " * pobierz i wypakuj dataset: https://files.grouplens.org/datasets/movielens/ml-latest-small.zip\n",
    "   * więcej możesz poczytać tutaj: https://grouplens.org/datasets/movielens/\n",
    " * [opcjonalnie] Utwórz wirtualne środowisko\n",
    " `python3 -m venv ./recsyslab5`\n",
    " * zainstaluj potrzebne biblioteki:\n",
    " `pip install numpy pandas sklearn gensim==3.8.3`"
   ]
  },
  {
   "cell_type": "markdown",
   "metadata": {},
   "source": [
    "## Część 1. - przygotowanie danych"
   ]
  },
  {
   "cell_type": "code",
   "execution_count": 6,
   "metadata": {},
   "outputs": [],
   "source": [
    "# importujemy wszystkie potrzebne pakiety\n",
    "\n",
    "import math\n",
    "import random\n",
    "import numpy as np\n",
    "import pandas\n",
    "\n",
    "from gensim.models import Word2Vec\n",
    "\n",
    "from sklearn.model_selection import train_test_split, KFold"
   ]
  },
  {
   "cell_type": "code",
   "execution_count": 7,
   "metadata": {},
   "outputs": [],
   "source": [
    "SCORE_THRESHOLD = 4.0 # recenzje z co najmniej taka ocena wezmiemy pod uwage\n",
    "VECTOR_SIZE = 20 # jak dlugie powinny byc wektory osadzen wierzcholkow\n",
    "NEIGHBOURS_WINDOW = 11 # tylu sasiadow wezmiemy pod uwage w algorytmie Word2Vec (symetrycznie i wliczajac biezacy element)\n",
    "PATH_LENGTH = 30 # dlugosc pojedynczej losowej sciezki\n",
    "PATHS_COUNT_PER_NODE = 5 # liczba losowych sciezek zaczynajacych sie w kazdym z wierzcholkow"
   ]
  },
  {
   "cell_type": "code",
   "execution_count": 8,
   "metadata": {},
   "outputs": [
    {
     "data": {
      "text/html": [
       "<div>\n",
       "<style scoped>\n",
       "    .dataframe tbody tr th:only-of-type {\n",
       "        vertical-align: middle;\n",
       "    }\n",
       "\n",
       "    .dataframe tbody tr th {\n",
       "        vertical-align: top;\n",
       "    }\n",
       "\n",
       "    .dataframe thead th {\n",
       "        text-align: right;\n",
       "    }\n",
       "</style>\n",
       "<table border=\"1\" class=\"dataframe\">\n",
       "  <thead>\n",
       "    <tr style=\"text-align: right;\">\n",
       "      <th></th>\n",
       "      <th>userId</th>\n",
       "      <th>movieId</th>\n",
       "      <th>rating</th>\n",
       "    </tr>\n",
       "  </thead>\n",
       "  <tbody>\n",
       "    <tr>\n",
       "      <th>0</th>\n",
       "      <td>u_1</td>\n",
       "      <td>m_1</td>\n",
       "      <td>4.0</td>\n",
       "    </tr>\n",
       "    <tr>\n",
       "      <th>1</th>\n",
       "      <td>u_1</td>\n",
       "      <td>m_3</td>\n",
       "      <td>4.0</td>\n",
       "    </tr>\n",
       "    <tr>\n",
       "      <th>2</th>\n",
       "      <td>u_1</td>\n",
       "      <td>m_6</td>\n",
       "      <td>4.0</td>\n",
       "    </tr>\n",
       "    <tr>\n",
       "      <th>3</th>\n",
       "      <td>u_1</td>\n",
       "      <td>m_47</td>\n",
       "      <td>5.0</td>\n",
       "    </tr>\n",
       "    <tr>\n",
       "      <th>4</th>\n",
       "      <td>u_1</td>\n",
       "      <td>m_50</td>\n",
       "      <td>5.0</td>\n",
       "    </tr>\n",
       "    <tr>\n",
       "      <th>...</th>\n",
       "      <td>...</td>\n",
       "      <td>...</td>\n",
       "      <td>...</td>\n",
       "    </tr>\n",
       "    <tr>\n",
       "      <th>100830</th>\n",
       "      <td>u_610</td>\n",
       "      <td>m_166528</td>\n",
       "      <td>4.0</td>\n",
       "    </tr>\n",
       "    <tr>\n",
       "      <th>100831</th>\n",
       "      <td>u_610</td>\n",
       "      <td>m_166534</td>\n",
       "      <td>4.0</td>\n",
       "    </tr>\n",
       "    <tr>\n",
       "      <th>100832</th>\n",
       "      <td>u_610</td>\n",
       "      <td>m_168248</td>\n",
       "      <td>5.0</td>\n",
       "    </tr>\n",
       "    <tr>\n",
       "      <th>100833</th>\n",
       "      <td>u_610</td>\n",
       "      <td>m_168250</td>\n",
       "      <td>5.0</td>\n",
       "    </tr>\n",
       "    <tr>\n",
       "      <th>100834</th>\n",
       "      <td>u_610</td>\n",
       "      <td>m_168252</td>\n",
       "      <td>5.0</td>\n",
       "    </tr>\n",
       "  </tbody>\n",
       "</table>\n",
       "<p>48580 rows × 3 columns</p>\n",
       "</div>"
      ],
      "text/plain": [
       "       userId   movieId  rating\n",
       "0         u_1       m_1     4.0\n",
       "1         u_1       m_3     4.0\n",
       "2         u_1       m_6     4.0\n",
       "3         u_1      m_47     5.0\n",
       "4         u_1      m_50     5.0\n",
       "...       ...       ...     ...\n",
       "100830  u_610  m_166528     4.0\n",
       "100831  u_610  m_166534     4.0\n",
       "100832  u_610  m_168248     5.0\n",
       "100833  u_610  m_168250     5.0\n",
       "100834  u_610  m_168252     5.0\n",
       "\n",
       "[48580 rows x 3 columns]"
      ]
     },
     "execution_count": 8,
     "metadata": {},
     "output_type": "execute_result"
    }
   ],
   "source": [
    "# wczytujemy oceny uytkownikow\n",
    "\n",
    "ratings = pandas.read_csv('ml-latest-small/ratings.csv').drop(columns=['timestamp'])\n",
    "ratings = ratings.where(ratings['rating'] >= SCORE_THRESHOLD).dropna()\n",
    "# rozszerzamy ID tak, by sie nie powtarzaly\n",
    "ratings['userId'] = ratings['userId'].apply(lambda x: 'u_' + str(int(x)))\n",
    "ratings['movieId'] = ratings['movieId'].apply(lambda x: 'm_' + str(int(x)))\n",
    "ratings"
   ]
  },
  {
   "cell_type": "code",
   "execution_count": 9,
   "metadata": {},
   "outputs": [
    {
     "data": {
      "text/html": [
       "<div>\n",
       "<style scoped>\n",
       "    .dataframe tbody tr th:only-of-type {\n",
       "        vertical-align: middle;\n",
       "    }\n",
       "\n",
       "    .dataframe tbody tr th {\n",
       "        vertical-align: top;\n",
       "    }\n",
       "\n",
       "    .dataframe thead th {\n",
       "        text-align: right;\n",
       "    }\n",
       "</style>\n",
       "<table border=\"1\" class=\"dataframe\">\n",
       "  <thead>\n",
       "    <tr style=\"text-align: right;\">\n",
       "      <th></th>\n",
       "      <th>movieId</th>\n",
       "      <th>genre</th>\n",
       "    </tr>\n",
       "  </thead>\n",
       "  <tbody>\n",
       "    <tr>\n",
       "      <th>0</th>\n",
       "      <td>m_1</td>\n",
       "      <td>g_adventure</td>\n",
       "    </tr>\n",
       "    <tr>\n",
       "      <th>0</th>\n",
       "      <td>m_1</td>\n",
       "      <td>g_animation</td>\n",
       "    </tr>\n",
       "    <tr>\n",
       "      <th>0</th>\n",
       "      <td>m_1</td>\n",
       "      <td>g_children</td>\n",
       "    </tr>\n",
       "    <tr>\n",
       "      <th>0</th>\n",
       "      <td>m_1</td>\n",
       "      <td>g_comedy</td>\n",
       "    </tr>\n",
       "    <tr>\n",
       "      <th>0</th>\n",
       "      <td>m_1</td>\n",
       "      <td>g_fantasy</td>\n",
       "    </tr>\n",
       "    <tr>\n",
       "      <th>...</th>\n",
       "      <td>...</td>\n",
       "      <td>...</td>\n",
       "    </tr>\n",
       "    <tr>\n",
       "      <th>9738</th>\n",
       "      <td>m_193583</td>\n",
       "      <td>g_fantasy</td>\n",
       "    </tr>\n",
       "    <tr>\n",
       "      <th>9739</th>\n",
       "      <td>m_193585</td>\n",
       "      <td>g_drama</td>\n",
       "    </tr>\n",
       "    <tr>\n",
       "      <th>9740</th>\n",
       "      <td>m_193587</td>\n",
       "      <td>g_action</td>\n",
       "    </tr>\n",
       "    <tr>\n",
       "      <th>9740</th>\n",
       "      <td>m_193587</td>\n",
       "      <td>g_animation</td>\n",
       "    </tr>\n",
       "    <tr>\n",
       "      <th>9741</th>\n",
       "      <td>m_193609</td>\n",
       "      <td>g_comedy</td>\n",
       "    </tr>\n",
       "  </tbody>\n",
       "</table>\n",
       "<p>22084 rows × 2 columns</p>\n",
       "</div>"
      ],
      "text/plain": [
       "       movieId        genre\n",
       "0          m_1  g_adventure\n",
       "0          m_1  g_animation\n",
       "0          m_1   g_children\n",
       "0          m_1     g_comedy\n",
       "0          m_1    g_fantasy\n",
       "...        ...          ...\n",
       "9738  m_193583    g_fantasy\n",
       "9739  m_193585      g_drama\n",
       "9740  m_193587     g_action\n",
       "9740  m_193587  g_animation\n",
       "9741  m_193609     g_comedy\n",
       "\n",
       "[22084 rows x 2 columns]"
      ]
     },
     "execution_count": 9,
     "metadata": {},
     "output_type": "execute_result"
    }
   ],
   "source": [
    "# wczytujemy gatunki filmow\n",
    "\n",
    "movies = pandas.read_csv('ml-latest-small/movies.csv').drop(columns=['title'])\n",
    "movies['movieId'] = movies['movieId'].apply(lambda x: 'm_' + str(int(x)))\n",
    "movies['genres'] = movies['genres'].apply(lambda x: x.split('|'))\n",
    "movies_to_genres = movies.explode('genres')\n",
    "movies_to_genres['genres'] = movies_to_genres['genres'].apply(lambda x: 'g_' + x.lower())\n",
    "movies_to_genres = movies_to_genres.rename(columns = {'genres': 'genre'})\n",
    "movies_to_genres"
   ]
  },
  {
   "cell_type": "code",
   "execution_count": 10,
   "metadata": {},
   "outputs": [],
   "source": [
    "users = ratings['userId'].unique()\n",
    "movies = ratings['movieId'].unique()\n",
    "genres = movies_to_genres['genre'].unique()"
   ]
  },
  {
   "cell_type": "markdown",
   "metadata": {},
   "source": [
    "## Część 2. - spacer po grafie"
   ]
  },
  {
   "cell_type": "code",
   "execution_count": 12,
   "metadata": {},
   "outputs": [
    {
     "name": "stdout",
     "output_type": "stream",
     "text": [
      "m_161634 |■■■■■■■■■■■■■■■■■■■■■■■■■■■■■■■■■■■■■■■■■■■■■■■■■■■■■■■■■■■■■■■■■■■■■■■■■■■■■■■■■■■■■■■■■■■■■■■■■■■-| 99.98%Done\r"
     ]
    }
   ],
   "source": [
    "# generujemy losowe sciezki w grafie\n",
    "#   krawedzie reprezentowane sa w dwoch macierzach - ratings i movies\n",
    "#   w wersji podstawowej wszystkie krawedzie traktujemy jako niewazone i nieskierowane\n",
    "#   mozliwe ulepszenia:\n",
    "#    - rozwazenie krawedzi skierowanych\n",
    "#    - uwzglednienie wag krawedzi (ocen uzytkownikow)\n",
    "#    - jakas forma normalizacji - obnizenia wag wierzcholkow o wysokich stopniach\n",
    "#    - Node2Vec - parametry P i Q\n",
    "# wynikiem powinna byc lista list - kazda z tych list zawiera kolejne ID wierzcholkow na sciezce\n",
    "\n",
    "def generate_walks(ratings, movies_to_genres, paths_per_node, path_length):\n",
    "    paths = []\n",
    "    movies_no = len(movies)\n",
    "    for idx, movie in enumerate(movies):\n",
    "        percent = idx/movies_no\n",
    "        bar = '{progress:-<100}'.format(progress='■'*math.floor(percent*100))\n",
    "        print('\\r', f'\\r{movie} |{bar}| {(percent*100):.2f}%', end = \"\")\n",
    "        \n",
    "        for i in range(paths_per_node):\n",
    "            nodes = []\n",
    "            # wybieramy losowo pierwszy wierzchołek spośród wszystkich klas\n",
    "            nodes.append(movie)\n",
    "            for j in range(path_length-1):\n",
    "                last_node = nodes[-1]\n",
    "                # na podstawie ostatniego nodea wybieramy krawędź\n",
    "                if last_node[0] == 'u':\n",
    "                    new_node = ratings.loc[ratings['userId'] == last_node].sample()['movieId']\n",
    "                elif last_node[0] == 'm':\n",
    "                    # movie ma krawędzie z gatunkami i userami, losujemy dla której klasy wybrać krawędź\n",
    "                    # film może nie być oceniony, więc w tym przypadku bierzemy gatunek\n",
    "                    new_node = ratings.loc[ratings['movieId'] == last_node]\n",
    "                    if random.random() < 0.5 and new_node.size > 0:\n",
    "                        new_node = new_node.sample()['userId']\n",
    "                    else:\n",
    "                        new_node = movies_to_genres.loc[movies_to_genres['movieId'] == last_node].sample()['genre']\n",
    "                elif last_node[0] == 'g':\n",
    "                    new_node = movies_to_genres.loc[movies_to_genres['genre'] == last_node].sample()['movieId']\n",
    "                    \n",
    "                nodes.append(new_node.iloc[0])\n",
    "        \n",
    "            paths.append(nodes)\n",
    "            \n",
    "    print('Done', end = \"\\r\")\n",
    "    \n",
    "    return paths\n",
    "    \n",
    "walks = generate_walks(ratings, movies_to_genres, PATHS_COUNT_PER_NODE, PATH_LENGTH)"
   ]
  },
  {
   "cell_type": "markdown",
   "metadata": {},
   "source": [
    "## Część 3. - obliczenie osadzeń"
   ]
  },
  {
   "cell_type": "code",
   "execution_count": 14,
   "metadata": {},
   "outputs": [],
   "source": [
    "# trenujemy model\n",
    "#   zauwaz, ze wszystkie trzy rodzaje wierzcholkow beda reprezentowane tak samo, w tej samej przestrzeni\n",
    "\n",
    "model = Word2Vec(sentences=walks, vector_size=VECTOR_SIZE, window=NEIGHBOURS_WINDOW, min_count=1, workers=4)\n",
    "embeddings = model.wv"
   ]
  },
  {
   "cell_type": "markdown",
   "metadata": {},
   "source": [
    "## Część 4. - rekomendacje i zastosowania"
   ]
  },
  {
   "cell_type": "code",
   "execution_count": 15,
   "metadata": {},
   "outputs": [],
   "source": [
    "PULP_FICTION = 'm_296'\n",
    "TOY_STORY = 'm_1'\n",
    "PLANET_OF_THE_APES = 'm_2529'"
   ]
  },
  {
   "cell_type": "code",
   "execution_count": 16,
   "metadata": {},
   "outputs": [
    {
     "name": "stdout",
     "output_type": "stream",
     "text": [
      "['m_140561', 'm_136834', 'm_126577', 'm_72178', 'm_126088']\n",
      "['m_6530', 'm_42176', 'm_136850', 'm_102066', 'm_174053']\n",
      "['m_46105', 'm_157296', 'm_128520', 'm_140561', 'm_128594']\n"
     ]
    }
   ],
   "source": [
    "# wyszukajmy K najpodobniejszych filmów do danego\n",
    "# porownaj wyniki dla odleglosci euklidesowej i cosinuswej, np. na trzech powyzszych filmach\n",
    "\n",
    "def euclidian_distance(i, j):\n",
    "    distance = np.subtract(i, j)\n",
    "    distance = np.square(distance)\n",
    "    distance = np.sum(distance)\n",
    "    distance = math.sqrt(distance)\n",
    "    \n",
    "    return distance\n",
    "\n",
    "def cosine_distance(i, j):\n",
    "    dot_prod = np.multiply(i, j)\n",
    "    dot_prod = np.sum(dot_prod)\n",
    "    \n",
    "    magn_i = np.square(i)\n",
    "    magn_i = np.sum(magn_i)\n",
    "    magn_i = math.sqrt(magn_i)\n",
    "    \n",
    "    magn_j = np.square(j)\n",
    "    magn_j = np.sum(magn_j)\n",
    "    magn_j = math.sqrt(magn_j)\n",
    "    \n",
    "    return dot_prod/(magn_i*magn_j)\n",
    "    \n",
    "\n",
    "def k_most_similar_movies(movie_id, K, embeddings, distance_fun):\n",
    "    # ...\n",
    "    # sortujemy movies(z wykluczeniem movie_id) po odległości embeddingów\n",
    "    k_most_similar = [movie for movie in movies if movie != movie_id]\n",
    "    k_most_similar.sort(key=(lambda x: distance_fun(embeddings[movie_id], embeddings[x])))\n",
    "    return k_most_similar[:K]\n",
    "\n",
    "print(k_most_similar_movies(PULP_FICTION, 5, embeddings, cosine_distance))\n",
    "print(k_most_similar_movies(TOY_STORY, 5, embeddings, cosine_distance))\n",
    "print(k_most_similar_movies(PLANET_OF_THE_APES, 5, embeddings, cosine_distance))"
   ]
  },
  {
   "cell_type": "code",
   "execution_count": 17,
   "metadata": {},
   "outputs": [
    {
     "data": {
      "text/plain": [
       "['m_180265', 'm_46105', 'm_34542', 'm_77177', 'm_170907']"
      ]
     },
     "execution_count": 17,
     "metadata": {},
     "output_type": "execute_result"
    }
   ],
   "source": [
    "# wyszukajmy k filmow najblizszych uzytkownikowi\n",
    "# wykorzystaj funkcje z poprzedniej komorki\n",
    "\n",
    "def k_best_movies_for_user(user_id, K, embeddings, distance_fun):\n",
    "    return k_most_similar_movies(user_id, K, embeddings, distance_fun)\n",
    "\n",
    "k_best_movies_for_user('u_1', 5, embeddings, cosine_distance)"
   ]
  },
  {
   "cell_type": "code",
   "execution_count": 18,
   "metadata": {},
   "outputs": [
    {
     "data": {
      "text/plain": [
       "['m_2791', 'm_410', 'm_1527', 'm_2355', 'm_3438']"
      ]
     },
     "execution_count": 18,
     "metadata": {},
     "output_type": "execute_result"
    }
   ],
   "source": [
    "# sprobujmy czegos bardziej skomplikowanego\n",
    "#   znajdz ulubiony gatunek filmowy uzytkownika\n",
    "#   a nastepnie zaproponuj K filmow z tego gatunku - ale nie tych najblizszych uzytkownikowi\n",
    "#   (zaproponuj, w jaki sposob dobrac filmy interesujace, ale nie z najblizszego otoczenia)\n",
    "\n",
    "def k_from_favourite_genre(user_id, K, embeddings, distance_fun):\n",
    "    # ...\n",
    "    k_most_similar = [genre for genre in genres]\n",
    "    k_most_similar.sort(key=(lambda x: distance_fun(embeddings[user_id], embeddings[x])))\n",
    "    favourite_genre = k_most_similar[0]\n",
    "    \n",
    "    return k_most_similar_movies(favourite_genre, K, embeddings, distance_fun)\n",
    "\n",
    "k_from_favourite_genre('u_1', 5, embeddings, cosine_distance)"
   ]
  },
  {
   "cell_type": "code",
   "execution_count": 21,
   "metadata": {},
   "outputs": [],
   "source": [
    "# Na koniec najbardziej skomplikowany algorytm - odpowiednik \"Radia utworu\" w Spotify.\n",
    "#   Zaczynamy od jednego filmu, a nastepnie wyznaczamy kolejne, wedrujac po przestrzeni, w ktorej wszystkie elementy sa osadzone.\n",
    "#   Zaproponuj, jak zdefiniowac podzbior filmow, z ktorych bedziemy wybierac (np. filmy odlegle o min. a i max. b od danego)\n",
    "#   oraz jak generowac kolejny skok (tak, zeby seria rekomendacji nie byla zbyt monotonna, ale rownoczesnie zgodna z gustem uzytkownika)\n",
    "\n",
    "def radio_distance(u, m1, m2, min_dist, max_dist, movie_bias = 0.7, distance_fun=cosine_distance):\n",
    "    distance = movie_bias*distance_fun(m1, m2)+(1-movie_bias)*distance_fun(m2, u)\n",
    "    \n",
    "    if distance<min_dist or distance>max_dist:\n",
    "        distance = math.inf\n",
    "        \n",
    "    return distance\n",
    "\n",
    "\n",
    "def get_playlist(start_movie_id, user_id, K, embeddings):\n",
    "    # ...\n",
    "    playlist = k_most_similar_movies(start_movie_id, K, embeddings, lambda i, j: radio_distance(embeddings[user_id], i, j, 0.1, 100))    \n",
    "      \n",
    "    \n",
    "    return playlist"
   ]
  },
  {
   "cell_type": "code",
   "execution_count": 22,
   "metadata": {},
   "outputs": [
    {
     "data": {
      "text/plain": [
       "['m_96608',\n",
       " 'm_1922',\n",
       " 'm_1549',\n",
       " 'm_1177',\n",
       " 'm_3289',\n",
       " 'm_42723',\n",
       " 'm_152591',\n",
       " 'm_680',\n",
       " 'm_5621',\n",
       " 'm_2513']"
      ]
     },
     "execution_count": 22,
     "metadata": {},
     "output_type": "execute_result"
    }
   ],
   "source": [
    "get_playlist('m_1', 'u_1', 10, embeddings)"
   ]
  },
  {
   "cell_type": "code",
   "execution_count": null,
   "metadata": {},
   "outputs": [],
   "source": []
  }
 ],
 "metadata": {
  "kernelspec": {
   "display_name": "Python 3 (ipykernel)",
   "language": "python",
   "name": "python3"
  },
  "language_info": {
   "codemirror_mode": {
    "name": "ipython",
    "version": 3
   },
   "file_extension": ".py",
   "mimetype": "text/x-python",
   "name": "python",
   "nbconvert_exporter": "python",
   "pygments_lexer": "ipython3",
   "version": "3.9.6"
  }
 },
 "nbformat": 4,
 "nbformat_minor": 4
}
